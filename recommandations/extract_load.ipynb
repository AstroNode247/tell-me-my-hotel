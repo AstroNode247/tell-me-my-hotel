{
 "cells": [
  {
   "cell_type": "code",
   "execution_count": 1,
   "id": "b9a397d3-7760-4490-926f-86b345bbc020",
   "metadata": {},
   "outputs": [],
   "source": [
    "import pandas as pd\n",
    "import json\n",
    "import numpy as np\n",
    "from tqdm import tqdm\n",
    "\n",
    "from DataProcessing import RecsData as recs"
   ]
  },
  {
   "cell_type": "markdown",
   "id": "650a61b7",
   "metadata": {},
   "source": [
    "# Traitements des données\n",
    "Les données sont des fichiers textes sous la forme **JSON**. Il existe deux fichiers distinct : **offering** et **reviews**.\n",
    "\n",
    "## Présentation de Offering\n",
    "Offering contient tous les hôtels valables à notre disposition."
   ]
  },
  {
   "cell_type": "code",
   "execution_count": 2,
   "id": "479fb78e-c724-408a-88c8-78aaa9076b50",
   "metadata": {},
   "outputs": [
    {
     "name": "stdout",
     "output_type": "stream",
     "text": [
      "Initialize the dataset\n"
     ]
    },
    {
     "name": "stderr",
     "output_type": "stream",
     "text": [
      "4333it [00:00, 67680.80it/s]\n",
      "100%|███████████████████████████████████████████████████████████████████████████| 4333/4333 [00:00<00:00, 41667.15it/s]\n"
     ]
    },
    {
     "data": {
      "text/html": [
       "<div>\n",
       "<style scoped>\n",
       "    .dataframe tbody tr th:only-of-type {\n",
       "        vertical-align: middle;\n",
       "    }\n",
       "\n",
       "    .dataframe tbody tr th {\n",
       "        vertical-align: top;\n",
       "    }\n",
       "\n",
       "    .dataframe thead th {\n",
       "        text-align: right;\n",
       "    }\n",
       "</style>\n",
       "<table border=\"1\" class=\"dataframe\">\n",
       "  <thead>\n",
       "    <tr style=\"text-align: right;\">\n",
       "      <th></th>\n",
       "      <th>hotel_class</th>\n",
       "      <th>region_id</th>\n",
       "      <th>url</th>\n",
       "      <th>phone</th>\n",
       "      <th>details</th>\n",
       "      <th>type</th>\n",
       "      <th>id</th>\n",
       "      <th>name</th>\n",
       "      <th>address.region</th>\n",
       "      <th>address.street-address</th>\n",
       "      <th>address.postal-code</th>\n",
       "      <th>address.locality</th>\n",
       "    </tr>\n",
       "  </thead>\n",
       "  <tbody>\n",
       "    <tr>\n",
       "      <th>0</th>\n",
       "      <td>3.0</td>\n",
       "      <td>60750</td>\n",
       "      <td>http://www.tripadvisor.com/Hotel_Review-g60750...</td>\n",
       "      <td></td>\n",
       "      <td>None</td>\n",
       "      <td>hotel</td>\n",
       "      <td>112280</td>\n",
       "      <td>Surfer Beach Hotel</td>\n",
       "      <td>CA</td>\n",
       "      <td>711 Pacific Beach Drive</td>\n",
       "      <td>92109</td>\n",
       "      <td>San Diego</td>\n",
       "    </tr>\n",
       "    <tr>\n",
       "      <th>1</th>\n",
       "      <td>1.5</td>\n",
       "      <td>33388</td>\n",
       "      <td>http://www.tripadvisor.com/Hotel_Review-g33388...</td>\n",
       "      <td></td>\n",
       "      <td>None</td>\n",
       "      <td>hotel</td>\n",
       "      <td>671614</td>\n",
       "      <td>Knights Inn Denver - Gateway to Downtown</td>\n",
       "      <td>CO</td>\n",
       "      <td>2601 Zuni B St</td>\n",
       "      <td>80211</td>\n",
       "      <td>Denver</td>\n",
       "    </tr>\n",
       "    <tr>\n",
       "      <th>2</th>\n",
       "      <td>4.0</td>\n",
       "      <td>32655</td>\n",
       "      <td>http://www.tripadvisor.com/Hotel_Review-g32655...</td>\n",
       "      <td></td>\n",
       "      <td>None</td>\n",
       "      <td>hotel</td>\n",
       "      <td>77827</td>\n",
       "      <td>Luxe Sunset Boulevard Hotel</td>\n",
       "      <td>CA</td>\n",
       "      <td>11461 Sunset Boulevard</td>\n",
       "      <td>90049</td>\n",
       "      <td>Los Angeles</td>\n",
       "    </tr>\n",
       "    <tr>\n",
       "      <th>3</th>\n",
       "      <td>3.5</td>\n",
       "      <td>33388</td>\n",
       "      <td>http://www.tripadvisor.com/Hotel_Review-g33388...</td>\n",
       "      <td></td>\n",
       "      <td>None</td>\n",
       "      <td>hotel</td>\n",
       "      <td>83031</td>\n",
       "      <td>Crowne Plaza Denver International Airport</td>\n",
       "      <td>CO</td>\n",
       "      <td>15500 East 40th Avenue</td>\n",
       "      <td>80239</td>\n",
       "      <td>Denver</td>\n",
       "    </tr>\n",
       "    <tr>\n",
       "      <th>4</th>\n",
       "      <td>3.0</td>\n",
       "      <td>55857</td>\n",
       "      <td>http://www.tripadvisor.com/Hotel_Review-g55857...</td>\n",
       "      <td></td>\n",
       "      <td>None</td>\n",
       "      <td>hotel</td>\n",
       "      <td>109093</td>\n",
       "      <td>Residence Inn Fort Worth University Drive/Rive...</td>\n",
       "      <td>TX</td>\n",
       "      <td>1701 South University Drive</td>\n",
       "      <td>76107</td>\n",
       "      <td>Fort Worth</td>\n",
       "    </tr>\n",
       "  </tbody>\n",
       "</table>\n",
       "</div>"
      ],
      "text/plain": [
       "   hotel_class  region_id                                                url  \\\n",
       "0          3.0      60750  http://www.tripadvisor.com/Hotel_Review-g60750...   \n",
       "1          1.5      33388  http://www.tripadvisor.com/Hotel_Review-g33388...   \n",
       "2          4.0      32655  http://www.tripadvisor.com/Hotel_Review-g32655...   \n",
       "3          3.5      33388  http://www.tripadvisor.com/Hotel_Review-g33388...   \n",
       "4          3.0      55857  http://www.tripadvisor.com/Hotel_Review-g55857...   \n",
       "\n",
       "  phone details   type      id  \\\n",
       "0          None  hotel  112280   \n",
       "1          None  hotel  671614   \n",
       "2          None  hotel   77827   \n",
       "3          None  hotel   83031   \n",
       "4          None  hotel  109093   \n",
       "\n",
       "                                                name address.region  \\\n",
       "0                                 Surfer Beach Hotel             CA   \n",
       "1           Knights Inn Denver - Gateway to Downtown             CO   \n",
       "2                        Luxe Sunset Boulevard Hotel             CA   \n",
       "3          Crowne Plaza Denver International Airport             CO   \n",
       "4  Residence Inn Fort Worth University Drive/Rive...             TX   \n",
       "\n",
       "        address.street-address address.postal-code address.locality  \n",
       "0      711 Pacific Beach Drive               92109        San Diego  \n",
       "1               2601 Zuni B St               80211           Denver  \n",
       "2       11461 Sunset Boulevard               90049      Los Angeles  \n",
       "3       15500 East 40th Avenue               80239           Denver  \n",
       "4  1701 South University Drive               76107       Fort Worth  "
      ]
     },
     "execution_count": 2,
     "metadata": {},
     "output_type": "execute_result"
    }
   ],
   "source": [
    "offers = recs(\"../data/offering.txt\")\n",
    "json_offers = offers.to_json()\n",
    "df_offers = pd.json_normalize(json_offers, meta=['address'])\n",
    "df_offers.head()"
   ]
  },
  {
   "cell_type": "markdown",
   "id": "89089a6b",
   "metadata": {},
   "source": [
    "## Présentation de reviews\n",
    "Reviews contient les appréciations des clients dans différents hôtels."
   ]
  },
  {
   "cell_type": "code",
   "execution_count": 4,
   "id": "6b0ddbe8-b982-4a14-a9af-25532cb88d91",
   "metadata": {},
   "outputs": [
    {
     "name": "stdout",
     "output_type": "stream",
     "text": [
      "Initialize the dataset\n"
     ]
    },
    {
     "name": "stderr",
     "output_type": "stream",
     "text": [
      "878561it [00:25, 34742.80it/s]\n"
     ]
    }
   ],
   "source": [
    "reviews = recs(\"../data/review.txt\")"
   ]
  },
  {
   "cell_type": "code",
   "execution_count": 5,
   "id": "e9980857-e536-4627-81fb-381e8868137a",
   "metadata": {
    "pycharm": {
     "is_executing": true
    }
   },
   "outputs": [
    {
     "name": "stderr",
     "output_type": "stream",
     "text": [
      "100%|███████████████████████████████████████████████████████████████████████| 351424/351424 [00:10<00:00, 33441.26it/s]\n"
     ]
    }
   ],
   "source": [
    "# prc ou pourcentage limite le nombre de donnée en lecture\n",
    "reviews_json = reviews.to_json(prc=0.4)"
   ]
  },
  {
   "cell_type": "code",
   "execution_count": null,
   "id": "60079e30",
   "metadata": {},
   "outputs": [],
   "source": [
    "new_reviews = pd.json_normalize(reviews_json, meta=['ratings', 'author'])\n",
    "new_reviews.head()"
   ]
  },
  {
   "cell_type": "code",
   "execution_count": null,
   "id": "088aa27e",
   "metadata": {},
   "outputs": [],
   "source": []
  }
 ],
 "metadata": {
  "kernelspec": {
   "display_name": "Python 3 (ipykernel)",
   "language": "python",
   "name": "python3"
  },
  "language_info": {
   "codemirror_mode": {
    "name": "ipython",
    "version": 3
   },
   "file_extension": ".py",
   "mimetype": "text/x-python",
   "name": "python",
   "nbconvert_exporter": "python",
   "pygments_lexer": "ipython3",
   "version": "3.9.7"
  }
 },
 "nbformat": 4,
 "nbformat_minor": 5
}
