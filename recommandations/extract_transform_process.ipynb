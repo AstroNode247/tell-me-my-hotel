{
 "cells": [
  {
   "cell_type": "code",
   "execution_count": 1,
   "id": "b9a397d3-7760-4490-926f-86b345bbc020",
   "metadata": {},
   "outputs": [],
   "source": [
    "import pandas as pd\n",
    "import json\n",
    "import numpy as np\n",
    "\n",
    "from DataProcessing import RecsData as recs"
   ]
  },
  {
   "cell_type": "code",
   "execution_count": 2,
   "id": "479fb78e-c724-408a-88c8-78aaa9076b50",
   "metadata": {},
   "outputs": [
    {
     "name": "stdout",
     "output_type": "stream",
     "text": [
      "Initialize the dataset\n"
     ]
    },
    {
     "name": "stderr",
     "output_type": "stream",
     "text": [
      "4333it [00:00, 92379.54it/s]\n",
      "100%|███████████████████████████████████████████████████████████████████████████| 4333/4333 [00:00<00:00, 51464.36it/s]\n",
      "100%|███████████████████████████████████████████████████████████████████████████| 4333/4333 [00:00<00:00, 83038.26it/s]\n"
     ]
    },
    {
     "name": "stdout",
     "output_type": "stream",
     "text": [
      "Parse into dictionnary\n",
      "Clean the dictionnary\n"
     ]
    },
    {
     "data": {
      "text/html": [
       "<div>\n",
       "<style scoped>\n",
       "    .dataframe tbody tr th:only-of-type {\n",
       "        vertical-align: middle;\n",
       "    }\n",
       "\n",
       "    .dataframe tbody tr th {\n",
       "        vertical-align: top;\n",
       "    }\n",
       "\n",
       "    .dataframe thead th {\n",
       "        text-align: right;\n",
       "    }\n",
       "</style>\n",
       "<table border=\"1\" class=\"dataframe\">\n",
       "  <thead>\n",
       "    <tr style=\"text-align: right;\">\n",
       "      <th></th>\n",
       "      <th>hotel_class</th>\n",
       "      <th>region_id</th>\n",
       "      <th>url</th>\n",
       "      <th>phone</th>\n",
       "      <th>details</th>\n",
       "      <th>address</th>\n",
       "      <th>type</th>\n",
       "      <th>id</th>\n",
       "      <th>name</th>\n",
       "    </tr>\n",
       "  </thead>\n",
       "  <tbody>\n",
       "    <tr>\n",
       "      <th>0</th>\n",
       "      <td>4.0</td>\n",
       "      <td>60763</td>\n",
       "      <td>http://www.tripadvisor.com/Hotel_Review-g60763...</td>\n",
       "      <td>NaN</td>\n",
       "      <td>NaN</td>\n",
       "      <td>{'region': 'NY', 'street-address': '147 West 4...</td>\n",
       "      <td>hotel</td>\n",
       "      <td>113317</td>\n",
       "      <td>Casablanca Hotel Times Square</td>\n",
       "    </tr>\n",
       "    <tr>\n",
       "      <th>1</th>\n",
       "      <td>5.0</td>\n",
       "      <td>32655</td>\n",
       "      <td>http://www.tripadvisor.com/Hotel_Review-g32655...</td>\n",
       "      <td>NaN</td>\n",
       "      <td>NaN</td>\n",
       "      <td>{'region': 'CA', 'street-address': '300 S Dohe...</td>\n",
       "      <td>hotel</td>\n",
       "      <td>76049</td>\n",
       "      <td>Four Seasons Hotel Los Angeles at Beverly Hills</td>\n",
       "    </tr>\n",
       "    <tr>\n",
       "      <th>2</th>\n",
       "      <td>3.5</td>\n",
       "      <td>60763</td>\n",
       "      <td>http://www.tripadvisor.com/Hotel_Review-g60763...</td>\n",
       "      <td>NaN</td>\n",
       "      <td>NaN</td>\n",
       "      <td>{'region': 'NY', 'street-address': '790 Eighth...</td>\n",
       "      <td>hotel</td>\n",
       "      <td>99352</td>\n",
       "      <td>Hilton Garden Inn Times Square</td>\n",
       "    </tr>\n",
       "    <tr>\n",
       "      <th>3</th>\n",
       "      <td>4.0</td>\n",
       "      <td>60763</td>\n",
       "      <td>http://www.tripadvisor.com/Hotel_Review-g60763...</td>\n",
       "      <td>NaN</td>\n",
       "      <td>NaN</td>\n",
       "      <td>{'region': 'NY', 'street-address': '152 West 5...</td>\n",
       "      <td>hotel</td>\n",
       "      <td>93589</td>\n",
       "      <td>The Michelangelo Hotel</td>\n",
       "    </tr>\n",
       "    <tr>\n",
       "      <th>4</th>\n",
       "      <td>4.0</td>\n",
       "      <td>60763</td>\n",
       "      <td>http://www.tripadvisor.com/Hotel_Review-g60763...</td>\n",
       "      <td>NaN</td>\n",
       "      <td>NaN</td>\n",
       "      <td>{'region': 'NY', 'street-address': '130 West 4...</td>\n",
       "      <td>hotel</td>\n",
       "      <td>217616</td>\n",
       "      <td>The Muse Hotel New York</td>\n",
       "    </tr>\n",
       "  </tbody>\n",
       "</table>\n",
       "</div>"
      ],
      "text/plain": [
       "   hotel_class  region_id                                                url  \\\n",
       "0          4.0      60763  http://www.tripadvisor.com/Hotel_Review-g60763...   \n",
       "1          5.0      32655  http://www.tripadvisor.com/Hotel_Review-g32655...   \n",
       "2          3.5      60763  http://www.tripadvisor.com/Hotel_Review-g60763...   \n",
       "3          4.0      60763  http://www.tripadvisor.com/Hotel_Review-g60763...   \n",
       "4          4.0      60763  http://www.tripadvisor.com/Hotel_Review-g60763...   \n",
       "\n",
       "   phone  details                                            address   type  \\\n",
       "0    NaN      NaN  {'region': 'NY', 'street-address': '147 West 4...  hotel   \n",
       "1    NaN      NaN  {'region': 'CA', 'street-address': '300 S Dohe...  hotel   \n",
       "2    NaN      NaN  {'region': 'NY', 'street-address': '790 Eighth...  hotel   \n",
       "3    NaN      NaN  {'region': 'NY', 'street-address': '152 West 5...  hotel   \n",
       "4    NaN      NaN  {'region': 'NY', 'street-address': '130 West 4...  hotel   \n",
       "\n",
       "       id                                             name  \n",
       "0  113317                    Casablanca Hotel Times Square  \n",
       "1   76049  Four Seasons Hotel Los Angeles at Beverly Hills  \n",
       "2   99352                   Hilton Garden Inn Times Square  \n",
       "3   93589                           The Michelangelo Hotel  \n",
       "4  217616                          The Muse Hotel New York  "
      ]
     },
     "execution_count": 2,
     "metadata": {},
     "output_type": "execute_result"
    }
   ],
   "source": [
    "offers = recs(\"../data/offering.txt\")\n",
    "offers_df = offers.to_dataframe()\n",
    "offers_df.head()"
   ]
  },
  {
   "cell_type": "code",
   "execution_count": null,
   "id": "6b0ddbe8-b982-4a14-a9af-25532cb88d91",
   "metadata": {},
   "outputs": [],
   "source": []
  }
 ],
 "metadata": {
  "kernelspec": {
   "display_name": "Python 3",
   "language": "python",
   "name": "python3"
  },
  "language_info": {
   "codemirror_mode": {
    "name": "ipython",
    "version": 3
   },
   "file_extension": ".py",
   "mimetype": "text/x-python",
   "name": "python",
   "nbconvert_exporter": "python",
   "pygments_lexer": "ipython3",
   "version": "3.8.8"
  }
 },
 "nbformat": 4,
 "nbformat_minor": 5
}
